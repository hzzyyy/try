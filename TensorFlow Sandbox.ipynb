{
 "cells": [
  {
   "cell_type": "code",
   "execution_count": 41,
   "metadata": {
    "collapsed": false
   },
   "outputs": [
    {
     "name": "stdout",
     "output_type": "stream",
     "text": [
      "10.01\n",
      "0.278732\n",
      "2.24899\n",
      "1.88885\n",
      "1.95444\n",
      "1.9425\n",
      "1.94467\n",
      "1.94428\n",
      "1.94435\n",
      "1.94434\n",
      "1.94434\n",
      "1.94434\n",
      "1.94434\n",
      "1.94434\n",
      "1.94434\n",
      "1.94434\n",
      "1.94434\n",
      "1.94434\n",
      "1.94434\n",
      "1.94434\n"
     ]
    }
   ],
   "source": [
    "import tensorflow as tf\n",
    "import numpy as np\n",
    "\n",
    "trX = np.linspace(-1, 1, 101)\n",
    "trY = 2 * trX + np.random.randn(*trX.shape) * 0.33 # create a y value which is approximately linear but with some random noise\n",
    "N = len(trX)\n",
    "    \n",
    "X = tf.placeholder(tf.float32, [N]) # create symbolic variables\n",
    "Y = tf.placeholder(tf.float32, [N])\n",
    "\n",
    "\n",
    "def model(X, w):\n",
    "    return tf.mul(X, w) # lr is just X*w so this model line is pretty simple\n",
    "\n",
    "\n",
    "w = tf.Variable(0.0, name=\"weights\") # create a shared variable (like theano.shared) for the weight matrix\n",
    "y_model = model(X, w)\n",
    "\n",
    "cost = tf.reduce_sum(tf.squared_difference(Y, y_model)) # use square error for cost function\n",
    "\n",
    "#train_op = tf.train.GradientDescentOptimizer(learning_rate=0.01).minimize(cost) # construct an optimizer to minimize cost and fit line to my data\n",
    "#train_op = tf.train.AdadeltaOptimizer(learning_rate=0.001).minimize(cost) # construct an optimizer to minimize cost and fit line to my data\n",
    "train_op = tf.train.AdagradOptimizer(learning_rate=10.01).minimize(cost) # construct an optimizer to minimize cost and fit line to my data\n",
    "\n",
    "# Launch the graph in a session\n",
    "with tf.Session() as sess:\n",
    "    # you need to initialize variables (in this case just variable W)\n",
    "    tf.initialize_all_variables().run()\n",
    "\n",
    "    for i in range(20):\n",
    "        sess.run(train_op, feed_dict={X: trX, Y: trY})\n",
    "\n",
    "        print(sess.run(w))  # It should be something around 2"
   ]
  }
 ],
 "metadata": {
  "anaconda-cloud": {},
  "kernelspec": {
   "display_name": "Python [default]",
   "language": "python",
   "name": "python3"
  },
  "language_info": {
   "codemirror_mode": {
    "name": "ipython",
    "version": 3
   },
   "file_extension": ".py",
   "mimetype": "text/x-python",
   "name": "python",
   "nbconvert_exporter": "python",
   "pygments_lexer": "ipython3",
   "version": "3.5.2"
  }
 },
 "nbformat": 4,
 "nbformat_minor": 0
}
