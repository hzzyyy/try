{
 "cells": [
  {
   "cell_type": "markdown",
   "metadata": {},
   "source": [
    "The latex align environment is not rendered correctly when the markdown cell contains other text. For example the following will not be rendered:\n",
    "\\begin{align*}\n",
    "\\mathrm{E}[R_{te}(\\hat{\\beta})] & =\\sigma^{2}\\left(1+\\mathrm{E}\\left[\\tilde{x}_{1}^{T}\\left(\\mathbf{X}^{T}\\mathbf{X}\\right)^{-1}\\tilde{x}_{1}\\right]\\right)\\\\\n",
    " & >\\sigma^{2}\\\\\n",
    " & >\\sigma^{2}\\left(1-\\frac{p}{N}\\right)\\\\\n",
    " & =\\mathrm{E}[R_{tr}(\\hat{\\beta})]\n",
    "\\end{align*}\n",
    "\n",
    "However, if we insert an empty line above the align environment, it will be rendered correctly. As you can see in the following\n",
    "\n",
    "\\begin{align*}\n",
    "\\mathrm{E}[R_{te}(\\hat{\\beta})] & =\\sigma^{2}\\left(1+\\mathrm{E}\\left[\\tilde{x}_{1}^{T}\\left(\\mathbf{X}^{T}\\mathbf{X}\\right)^{-1}\\tilde{x}_{1}\\right]\\right)\\\\\n",
    " & >\\sigma^{2}\\\\\n",
    " & >\\sigma^{2}\\left(1-\\frac{p}{N}\\right)\\\\\n",
    " & =\\mathrm{E}[R_{tr}(\\hat{\\beta})]\n",
    "\\end{align*}"
   ]
  },
  {
   "cell_type": "markdown",
   "metadata": {},
   "source": [
    "On my local jupyter-note book everything is rendered fine, I'm using the latest mathjax from: 'https://cdn.mathjax.org/mathjax/latest/MathJax.js' I think you can fix this by update ot the latest mathjax."
   ]
  }
 ],
 "metadata": {
  "kernelspec": {
   "display_name": "Python 3",
   "language": "python",
   "name": "python3"
  },
  "language_info": {
   "codemirror_mode": {
    "name": "ipython",
    "version": 3
   },
   "file_extension": ".py",
   "mimetype": "text/x-python",
   "name": "python",
   "nbconvert_exporter": "python",
   "pygments_lexer": "ipython3",
   "version": "3.5.1"
  }
 },
 "nbformat": 4,
 "nbformat_minor": 0
}
