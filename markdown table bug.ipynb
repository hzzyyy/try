{
 "cells": [
  {
   "cell_type": "markdown",
   "metadata": {},
   "source": [
    "| Training set | Validation set |\n",
    "| :-----------------: | :------------: |\n",
    "| $\\mathcal{T}_1$ | $\\mathcal{V}_1 = \\{(x_1^j, y_1^j)\\}_{j=1}^{M} $ |\n",
    "| $\\cdots$ | $\\cdots$ |\n",
    "| $\\mathcal{T}_i$ | $\\mathcal{V}_i = \\{(x_i^j, y_i^j)\\}_{j=1}^{M} $ |\n",
    "| $\\cdots$ | $\\cdots$ |\n",
    "| $\\mathcal{T}_K$ | $\\mathcal{V}_K = \\{(x_K^j, y_K^j)\\}_{j=1}^{M} $ |"
   ]
  }
 ],
 "metadata": {
  "anaconda-cloud": {},
  "kernelspec": {
   "display_name": "Python [conda env:slides]",
   "language": "python",
   "name": "conda-env-slides-py"
  },
  "language_info": {
   "codemirror_mode": {
    "name": "ipython",
    "version": 3
   },
   "file_extension": ".py",
   "mimetype": "text/x-python",
   "name": "python",
   "nbconvert_exporter": "python",
   "pygments_lexer": "ipython3",
   "version": "3.5.2"
  }
 },
 "nbformat": 4,
 "nbformat_minor": 1
}
